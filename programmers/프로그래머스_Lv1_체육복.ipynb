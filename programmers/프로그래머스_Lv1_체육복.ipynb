{
 "cells": [
  {
   "cell_type": "code",
   "execution_count": 37,
   "metadata": {},
   "outputs": [
    {
     "name": "stdout",
     "output_type": "stream",
     "text": [
      "5\n"
     ]
    }
   ],
   "source": [
    "#프로그래머스 LV1 체육복\n",
    "#탐욕법, 그리디 알고리즘 사용\n",
    "#그리디 알고리즘 : 순간순간의 최적의 판단을 함, 정렬기법과 함께 사용\n",
    "#다음부턴 람다식과 리스트 내포를 사용해서 해보자. \n",
    "#현재 내가 짠 코드는 O(n**3)\n",
    "n = 6\n",
    "lost = [2,4,5,6]\n",
    "reserve = [1, 3, 5]\n",
    "\n",
    "\n",
    "\n",
    "def solution(n, lost, reserve):\n",
    "    \n",
    "        #lost == reserve인 값은 배열에서 제외시킴\n",
    "        match = set(lost) & set(reserve)\n",
    "        lost = list(set(lost) - match)\n",
    "        reserve = list(set(reserve) - match)\n",
    " \n",
    "    \n",
    "        #lost 배열의 -1값, +1값이 reserve에 존재하는지 검사\n",
    "        for num in lost :\n",
    "            if num-1 in reserve :\n",
    "                reserve.remove(num-1)\n",
    "                \n",
    "            elif num+1 in reserve :\n",
    "                reserve.remove(num+1)\n",
    "                \n",
    "            else:\n",
    "                n = n- 1\n",
    "                \n",
    "            answer = n\n",
    "        \n",
    "        return answer\n",
    "\n",
    "a = solution(n,lost,reserve)\n",
    "\n",
    "print(a)\n"
   ]
  },
  {
   "cell_type": "code",
   "execution_count": 46,
   "metadata": {},
   "outputs": [
    {
     "name": "stdout",
     "output_type": "stream",
     "text": [
      "cnt: 0\n",
      "[2, 4, 5, 6]\n",
      "{1, 3, 5}\n",
      "\n",
      "\n",
      "cnt: 1\n",
      "{2, 4, 6}\n",
      "{1, 3}\n",
      "\n",
      "\n",
      "cnt: 2\n",
      "{5, 7}\n",
      "{1}\n",
      "\n",
      "\n",
      "4\n"
     ]
    }
   ],
   "source": [
    "def solution(n, lost, reserve):\n",
    "\n",
    "    reserve = set(reserve)\n",
    "    cnt = 0\n",
    "    for size in [0, 1, -2]:\n",
    "        print(\"cnt:\",cnt)\n",
    "        cnt = cnt+1\n",
    "        print(lost)\n",
    "        print(reserve)\n",
    "        lost = set(map(lambda x : x+size, lost))\n",
    "        reserve, lost = reserve - lost, lost - reserve\n",
    "        print()\n",
    "        print()\n",
    "\n",
    "    return n - len(lost)\n",
    "\n",
    "\n",
    "aa = solution(n,lost,reserve)\n",
    "print(aa)"
   ]
  },
  {
   "cell_type": "code",
   "execution_count": 47,
   "metadata": {},
   "outputs": [
    {
     "name": "stdout",
     "output_type": "stream",
     "text": [
      "{1, 2}\n"
     ]
    }
   ],
   "source": [
    "l1 = [1,2,3,4,5]\n",
    "l2 = [3,4,5,6]\n",
    "\n",
    "a = set(l1)-set(l2)\n",
    "print(a)"
   ]
  },
  {
   "cell_type": "code",
   "execution_count": 53,
   "metadata": {},
   "outputs": [
    {
     "name": "stdout",
     "output_type": "stream",
     "text": [
      "2 4 6 8 10 12 14 16 18 4 8 12 16 20 24 28 32 36 6 12 18 24 30 36 42 48 54 8 16 24 32 40 48 56 64 72 "
     ]
    }
   ],
   "source": [
    "result = [x*y for x in range(2,10) if x%2 == 0\n",
    "          for y in range(1,10)]\n",
    "\n",
    "for i in result :\n",
    "    print(i, end= \" \")"
   ]
  }
 ],
 "metadata": {
  "kernelspec": {
   "display_name": "Python 3",
   "language": "python",
   "name": "python3"
  },
  "language_info": {
   "codemirror_mode": {
    "name": "ipython",
    "version": 3
   },
   "file_extension": ".py",
   "mimetype": "text/x-python",
   "name": "python",
   "nbconvert_exporter": "python",
   "pygments_lexer": "ipython3",
   "version": "3.8.5"
  }
 },
 "nbformat": 4,
 "nbformat_minor": 4
}
